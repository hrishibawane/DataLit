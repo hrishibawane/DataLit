{
 "cells": [
  {
   "cell_type": "code",
   "execution_count": 1,
   "metadata": {},
   "outputs": [
    {
     "data": {
      "text/plain": [
       "(array(['symboling', 'normalized-losses', 'make', 'fuel-type',\n",
       "        'aspiration', 'num-of-doors', 'body-style', 'drive-wheels',\n",
       "        'engine-location', 'wheel-base', 'length', 'width', 'height',\n",
       "        'curb-weight', 'engine-type', 'num-of-cylinders', 'engine-size',\n",
       "        'fuel-system', 'bore', 'stroke', 'compression-ratio', 'horsepower',\n",
       "        'peak-rpm', 'city-mpg', 'highway-mpg', 'price'], dtype=object),\n",
       " (205, 26))"
      ]
     },
     "execution_count": 1,
     "metadata": {},
     "output_type": "execute_result"
    }
   ],
   "source": [
    "import numpy as np\n",
    "import pandas as pd\n",
    "\n",
    "df = pd.read_csv('auto.csv')\n",
    "df.columns.values, df.shape"
   ]
  },
  {
   "cell_type": "code",
   "execution_count": 2,
   "metadata": {},
   "outputs": [
    {
     "data": {
      "text/plain": [
       "<Figure size 1200x1000 with 1 Axes>"
      ]
     },
     "metadata": {},
     "output_type": "display_data"
    }
   ],
   "source": [
    "import matplotlib.pyplot as plt\n",
    "\n",
    "plt.figure(figsize=(12,10))\n",
    "plt.scatter(df['horsepower'][:80], df['price'][:80])\n",
    "plt.xlabel('hp')\n",
    "plt.ylabel('price')\n",
    "plt.show()"
   ]
  },
  {
   "cell_type": "code",
   "execution_count": 3,
   "metadata": {},
   "outputs": [
    {
     "data": {
      "text/plain": [
       "'95'"
      ]
     },
     "execution_count": 3,
     "metadata": {},
     "output_type": "execute_result"
    }
   ],
   "source": [
    "df['horsepower'][113]"
   ]
  },
  {
   "cell_type": "code",
   "execution_count": 4,
   "metadata": {},
   "outputs": [
    {
     "data": {
      "text/plain": [
       "((150, 2), (49, 2))"
      ]
     },
     "execution_count": 4,
     "metadata": {},
     "output_type": "execute_result"
    }
   ],
   "source": [
    "from sklearn.model_selection import train_test_split\n",
    "\n",
    "ttrain, ttest = train_test_split(df)\n",
    "\n",
    "train = ttrain[['horsepower','price']].apply(pd.to_numeric, errors='coerce')\n",
    "test = ttest[['horsepower','price']].apply(pd.to_numeric, errors='coerce')\n",
    "\n",
    "train = train.dropna()\n",
    "test = test.dropna()\n",
    "\n",
    "train.shape, test.shape\n"
   ]
  },
  {
   "cell_type": "code",
   "execution_count": 5,
   "metadata": {},
   "outputs": [
    {
     "data": {
      "text/plain": [
       "LinearRegression(copy_X=True, fit_intercept=True, n_jobs=None,\n",
       "         normalize=False)"
      ]
     },
     "execution_count": 5,
     "metadata": {},
     "output_type": "execute_result"
    }
   ],
   "source": [
    "from sklearn.linear_model import LinearRegression\n",
    "\n",
    "model = LinearRegression()\n",
    "\n",
    "# Linear Reg model expects 2d array\n",
    "# [1,2,3] = [[1],[2],[3]]\n",
    "x_train = np.array(train['horsepower']).reshape(-1, 1)\n",
    "y_train = np.array(train['price']).reshape(-1, 1)\n",
    "\n",
    "\n",
    "# perform linear reg\n",
    "model.fit(x_train, y_train)"
   ]
  },
  {
   "cell_type": "code",
   "execution_count": 6,
   "metadata": {},
   "outputs": [
    {
     "data": {
      "text/plain": [
       "(170.59924136743433, -4603.78535003314)"
      ]
     },
     "execution_count": 6,
     "metadata": {},
     "output_type": "execute_result"
    }
   ],
   "source": [
    "slope = np.asscalar(np.squeeze(model.coef_))\n",
    "intercept = np.asscalar(np.squeeze(model.intercept_))\n",
    "\n",
    "slope, intercept"
   ]
  },
  {
   "cell_type": "code",
   "execution_count": 7,
   "metadata": {},
   "outputs": [
    {
     "name": "stdout",
     "output_type": "stream",
     "text": [
      "Training errors:\n",
      "MAE:  3198.0490230324276 \n",
      "MSE:  20317814.44676675 \n",
      "R2:  0.684227474090841\n",
      "Testing errors:\n",
      "MAE:  3635.117567082749 \n",
      "MSE:  26234383.112201598 \n",
      "R2:  0.5623789795889103\n"
     ]
    }
   ],
   "source": [
    "from sklearn.metrics import mean_absolute_error, mean_squared_error, r2_score\n",
    "\n",
    "# errors for training data\n",
    "tr_pred = model.predict(x_train)\n",
    "tr_mae = mean_absolute_error(y_train, tr_pred)\n",
    "tr_mse = mean_squared_error(y_train, tr_pred)\n",
    "tr_r2 = r2_score(y_train, tr_pred)\n",
    "\n",
    "x_test = np.array(test['horsepower']).reshape(-1, 1)\n",
    "y_test = np.array(test['price']).reshape(-1, 1)\n",
    "\n",
    "# errors for testing data\n",
    "pred = model.predict(x_test)\n",
    "mae = mean_absolute_error(y_test, pred)\n",
    "mse = mean_squared_error(y_test, pred)\n",
    "r2 = r2_score(y_test, pred)\n",
    "\n",
    "print('Training errors:')\n",
    "print('MAE: ', tr_mae, '\\nMSE: ', tr_mse, '\\nR2: ', tr_r2)\n",
    "\n",
    "print('Testing errors:')\n",
    "print('MAE: ', mae, '\\nMSE: ', mse, '\\nR2: ', r2)"
   ]
  },
  {
   "cell_type": "code",
   "execution_count": null,
   "metadata": {},
   "outputs": [],
   "source": []
  }
 ],
 "metadata": {
  "kernelspec": {
   "display_name": "Python 3",
   "language": "python",
   "name": "python3"
  },
  "language_info": {
   "codemirror_mode": {
    "name": "ipython",
    "version": 3
   },
   "file_extension": ".py",
   "mimetype": "text/x-python",
   "name": "python",
   "nbconvert_exporter": "python",
   "pygments_lexer": "ipython3",
   "version": "3.7.3"
  }
 },
 "nbformat": 4,
 "nbformat_minor": 2
}
